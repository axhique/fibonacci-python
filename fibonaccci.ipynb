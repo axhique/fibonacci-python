{
 "cells": [
  {
   "cell_type": "code",
   "execution_count": null,
   "metadata": {},
   "outputs": [],
   "source": [
    "first_num = 0\n",
    "second_num = 1\n",
    "print (first_num ,second_num,end=' ')\n",
    "\n",
    "\n",
    "for i in range(8):\n",
    "    sum = first_num + second_num\n",
    "    first_num = second_num\n",
    "    second_num = sum\n",
    "    print (sum ,end=' ')\n"
   ]
  }
 ],
 "metadata": {
  "kernelspec": {
   "display_name": "Python 3.8.9 64-bit",
   "language": "python",
   "name": "python3"
  },
  "language_info": {
   "codemirror_mode": {
    "name": "ipython",
    "version": 3
   },
   "file_extension": ".py",
   "mimetype": "text/x-python",
   "name": "python",
   "nbconvert_exporter": "python",
   "pygments_lexer": "ipython3",
   "version": "3.8.9"
  },
  "orig_nbformat": 4,
  "vscode": {
   "interpreter": {
    "hash": "1854582b441e2b8d0e0624a4db8f67017227a8d31f644800bf88c79589e71fb0"
   }
  }
 },
 "nbformat": 4,
 "nbformat_minor": 2
}
